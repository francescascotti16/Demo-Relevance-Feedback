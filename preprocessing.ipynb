{
 "cells": [
  {
   "cell_type": "code",
   "execution_count": null,
   "metadata": {},
   "outputs": [],
   "source": [
    "import pickle\n",
    "from utils.f_files import read_indexed_hdf5_and_create_index, create_logistic_indexed_data\n",
    "\n",
    "# Path to the HDF5 file\n",
    "file_hdf5_path = 'features-clip-laion.hdf5'  # Change this to the correct path\n",
    "\n",
    "try:\n",
    "    # Read the HDF5 file and create the index\n",
    "    index_2_id, indexed_data, indexed_ids = read_indexed_hdf5_and_create_index(file_hdf5_path)\n",
    "    print(\"Successfully read and indexed HDF5 file.\")\n",
    "    \n",
    "    # Create logistic features\n",
    "    indexed_data_logistic = create_logistic_indexed_data(indexed_data)\n",
    "    print(\"Logistic features successfully created.\")\n",
    "    \n",
    "    # Save all files locally with pickle dump\n",
    "    files_to_save = {\n",
    "        'index_2_id.pickle': index_2_id,\n",
    "        'indexed_data.pickle': indexed_data,\n",
    "        'indexed_ids.pickle': indexed_ids,\n",
    "        'indexed_data_logistic.pickle': indexed_data_logistic\n",
    "    }\n",
    "    \n",
    "    for file_name, data in files_to_save.items():\n",
    "        with open(file_name, 'wb') as handle:\n",
    "            pickle.dump(data, handle, protocol=pickle.HIGHEST_PROTOCOL)\n",
    "        print(f\"Successfully saved {file_name}\")\n",
    "\n",
    "except Exception as e:\n",
    "    print(f\"An error occurred: {e}\")\n"
   ]
  },
  {
   "cell_type": "code",
   "execution_count": null,
   "metadata": {},
   "outputs": [],
   "source": []
  }
 ],
 "metadata": {
  "kernelspec": {
   "display_name": ".venv",
   "language": "python",
   "name": "python3"
  },
  "language_info": {
   "name": "python",
   "version": "3.10.12"
  }
 },
 "nbformat": 4,
 "nbformat_minor": 2
}
